{
 "cells": [
  {
   "cell_type": "markdown",
   "source": [
    "# Imports"
   ],
   "metadata": {
    "collapsed": false
   },
   "id": "b95c1d3f28dbf605"
  },
  {
   "cell_type": "code",
   "outputs": [],
   "source": [
    "import pandas as pd\n",
    "from sklearn.svm import SVC\n",
    "from sklearn.ensemble import RandomForestClassifier, StackingClassifier\n",
    "from sklearn.discriminant_analysis import LinearDiscriminantAnalysis as LDA\n",
    "from sklearn.linear_model import LogisticRegression\n",
    "from xgboost import XGBClassifier\n",
    "from sklearn.pipeline import Pipeline\n",
    "from sklearn.model_selection import StratifiedKFold\n",
    "\n",
    "from model_comparison import create_memory_cache, train_model, train_with_pca, evaluate\n",
    "import sklearn\n",
    "sklearn.set_config(working_memory=12000)"
   ],
   "metadata": {
    "collapsed": false,
    "ExecuteTime": {
     "end_time": "2025-05-24T20:13:00.145001Z",
     "start_time": "2025-05-24T20:13:00.131927Z"
    }
   },
   "id": "6137e1aac865b925",
   "execution_count": 13
  },
  {
   "cell_type": "markdown",
   "source": [
    "# Configuration"
   ],
   "metadata": {
    "collapsed": false
   },
   "id": "36b650e18c0b21bb"
  },
  {
   "cell_type": "code",
   "outputs": [],
   "source": [
    "memory = create_memory_cache()\n",
    "cv = StratifiedKFold(n_splits=3, shuffle=True, random_state=42)"
   ],
   "metadata": {
    "collapsed": false,
    "ExecuteTime": {
     "end_time": "2025-05-24T20:13:01.072986Z",
     "start_time": "2025-05-24T20:13:01.058963Z"
    }
   },
   "id": "afd238e502ed482a",
   "execution_count": 14
  },
  {
   "cell_type": "markdown",
   "source": [
    "# Load Data"
   ],
   "metadata": {
    "collapsed": false
   },
   "id": "df387832198dfc1b"
  },
  {
   "cell_type": "code",
   "outputs": [],
   "source": [
    "x_train = pd.read_csv(\"x_train_scaled.csv\")\n",
    "x_test = pd.read_csv(\"x_test_scaled.csv\")\n",
    "y_train = pd.read_csv(\"y_train.csv\").squeeze()\n",
    "y_test = pd.read_csv(\"y_test.csv\").squeeze()"
   ],
   "metadata": {
    "collapsed": false,
    "ExecuteTime": {
     "end_time": "2025-05-24T20:13:02.213110Z",
     "start_time": "2025-05-24T20:13:02.132274Z"
    }
   },
   "id": "12005434e0bd1efa",
   "execution_count": 15
  },
  {
   "cell_type": "code",
   "outputs": [
    {
     "data": {
      "text/plain": "label\n1    217\n0    217\nName: count, dtype: int64"
     },
     "execution_count": 16,
     "metadata": {},
     "output_type": "execute_result"
    }
   ],
   "source": [
    "y_train.value_counts()"
   ],
   "metadata": {
    "collapsed": false,
    "ExecuteTime": {
     "end_time": "2025-05-24T20:13:03.780361Z",
     "start_time": "2025-05-24T20:13:03.776102Z"
    }
   },
   "id": "379925d24da9de72",
   "execution_count": 16
  },
  {
   "cell_type": "code",
   "outputs": [
    {
     "data": {
      "text/plain": "stroke\n0    424\n1     26\nName: count, dtype: int64"
     },
     "execution_count": 17,
     "metadata": {},
     "output_type": "execute_result"
    }
   ],
   "source": [
    "y_test.value_counts()"
   ],
   "metadata": {
    "collapsed": false,
    "ExecuteTime": {
     "end_time": "2025-05-24T20:13:04.536168Z",
     "start_time": "2025-05-24T20:13:04.531047Z"
    }
   },
   "id": "b9426dd6c6cab652",
   "execution_count": 17
  },
  {
   "cell_type": "markdown",
   "source": [
    "# MODELS"
   ],
   "metadata": {
    "collapsed": false
   },
   "id": "5fa4aeff0dde75e0"
  },
  {
   "cell_type": "markdown",
   "source": [
    "## SVC"
   ],
   "metadata": {
    "collapsed": false
   },
   "id": "d46a6c92fd5195d7"
  },
  {
   "cell_type": "code",
   "outputs": [],
   "source": [
    "svc_pipeline = Pipeline([('svc', SVC(probability=True))], memory=memory)\n",
    "svc_params = {\n",
    "    'svc__C': [0.1, 1, 10],\n",
    "    'svc__kernel': ['rbf', 'linear'],\n",
    "    'svc__gamma': ['scale', 'auto']\n",
    "}\n",
    "svc_grid, svc_preds = train_model(\"SVC\", svc_pipeline, svc_params, x_train, y_train, x_test, y_test, cv)"
   ],
   "metadata": {
    "collapsed": false
   },
   "id": "3d4260d52e6e8fd8"
  },
  {
   "cell_type": "markdown",
   "source": [
    "## LDA"
   ],
   "metadata": {
    "collapsed": false
   },
   "id": "9aedfa88e208897"
  },
  {
   "cell_type": "code",
   "outputs": [],
   "source": [
    "lda_pipeline = Pipeline([('lda', LDA(solver='lsqr', shrinkage='auto'))], memory=memory)\n",
    "lda_grid, lda_preds = train_model(\"LDA\", lda_pipeline, {}, x_train, y_train, x_test, y_test, cv)"
   ],
   "metadata": {
    "collapsed": false
   },
   "id": "7775e17ad9ba4908"
  },
  {
   "cell_type": "markdown",
   "source": [
    "## Random Forest"
   ],
   "metadata": {
    "collapsed": false
   },
   "id": "788c24bf0246c422"
  },
  {
   "cell_type": "code",
   "outputs": [],
   "source": [
    "rf_pipeline = Pipeline([('rf', RandomForestClassifier(random_state=42))], memory=memory)\n",
    "rf_params = {\n",
    "    'rf__n_estimators': [100, 200],\n",
    "    'rf__max_depth': [None, 10],\n",
    "    'rf__min_samples_split': [2, 5],\n",
    "    'rf__min_samples_leaf': [1, 2]\n",
    "}\n",
    "rf_grid, rf_preds = train_model(\"Random Forest\", rf_pipeline, rf_params, x_train, y_train, x_test, y_test, cv)"
   ],
   "metadata": {
    "collapsed": false
   },
   "id": "ced2954307f0e8d"
  },
  {
   "cell_type": "markdown",
   "source": [
    "## XGBoost"
   ],
   "metadata": {
    "collapsed": false
   },
   "id": "d2d7444b204df148"
  },
  {
   "cell_type": "code",
   "outputs": [],
   "source": [
    "xgb_pipeline = Pipeline([('xgb', XGBClassifier(use_label_encoder=False, eval_metric='mlogloss', random_state=42))], memory=memory)\n",
    "xgb_params = {\n",
    "    'xgb__n_estimators': [100, 200],\n",
    "    'xgb__max_depth': [3, 6, 9],\n",
    "    'xgb__learning_rate': [0.01, 0.1],\n",
    "    'xgb__subsample': [0.8, 1],\n",
    "    'xgb__colsample_bytree': [0.8, 1]\n",
    "}\n",
    "xgb_grid, xgb_preds = train_model(\"XGBoost\", xgb_pipeline, xgb_params, x_train, y_train, x_test, y_test, cv)"
   ],
   "metadata": {
    "collapsed": false
   },
   "id": "802c847cc5feb88"
  },
  {
   "cell_type": "markdown",
   "source": [
    "## Stacking"
   ],
   "metadata": {
    "collapsed": false
   },
   "id": "24d2f5130cfa1901"
  },
  {
   "cell_type": "code",
   "outputs": [],
   "source": [
    "stacking = StackingClassifier(\n",
    "    estimators=[\n",
    "        ('svc', svc_grid.best_estimator_),\n",
    "        ('rf', rf_grid.best_estimator_),\n",
    "        ('xgb', xgb_grid.best_estimator_)\n",
    "    ],\n",
    "    final_estimator=LogisticRegression(max_iter=1000),\n",
    "    cv=cv,\n",
    "    n_jobs=-1\n",
    ")\n",
    "stacking.fit(x_train, y_train)\n",
    "stacking_preds = stacking.predict(x_test)\n",
    "evaluate(\"Stacking\", y_test, stacking_preds)"
   ],
   "metadata": {
    "collapsed": false
   },
   "id": "524cdfa1eca74945"
  },
  {
   "cell_type": "markdown",
   "source": [
    "# PCA ANALYSIS"
   ],
   "metadata": {
    "collapsed": false
   },
   "id": "4cf8f2f1bb355fab"
  },
  {
   "cell_type": "code",
   "outputs": [],
   "source": [
    "train_with_pca('svc', SVC(probability=True), svc_params, x_train, y_train, x_test, y_test, cv, memory)\n",
    "train_with_pca('rf', RandomForestClassifier(random_state=42), rf_params, x_train, y_train, x_test, y_test, cv, memory)\n",
    "train_with_pca('xgb', XGBClassifier(use_label_encoder=False, eval_metric='mlogloss', random_state=42), xgb_params, x_train, y_train, x_test, y_test, cv, memory)"
   ],
   "metadata": {
    "collapsed": false
   },
   "id": "d2d3fa54bd2bec2"
  }
 ],
 "metadata": {
  "kernelspec": {
   "display_name": "Python 3",
   "language": "python",
   "name": "python3"
  },
  "language_info": {
   "codemirror_mode": {
    "name": "ipython",
    "version": 2
   },
   "file_extension": ".py",
   "mimetype": "text/x-python",
   "name": "python",
   "nbconvert_exporter": "python",
   "pygments_lexer": "ipython2",
   "version": "2.7.6"
  }
 },
 "nbformat": 4,
 "nbformat_minor": 5
}
